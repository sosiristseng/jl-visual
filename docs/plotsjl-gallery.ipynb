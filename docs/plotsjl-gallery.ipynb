{
 "cells": [
  {
   "cell_type": "markdown",
   "metadata": {},
   "source": [
    "# Plots.jl gallery\n",
    "\n",
    "Sources:\n",
    "\n",
    "+ https://github.com/goropikari/PlotsGallery.jl (repo archived)\n",
    "+ [Julia Plots docs](https://docs.juliaplots.org/)"
   ]
  },
  {
   "cell_type": "markdown",
   "metadata": {},
   "source": [
    "## Attributes\n",
    "\n",
    "https://docs.juliaplots.org/stable/attributes/"
   ]
  },
  {
   "cell_type": "code",
   "execution_count": null,
   "metadata": {},
   "outputs": [],
   "source": [
    "using Plots\n",
    "using Random\n",
    "Plots.default(fmt=:png)\n",
    "Random.seed!(2024)"
   ]
  },
  {
   "cell_type": "markdown",
   "metadata": {},
   "source": [
    "### Ticks size and properties"
   ]
  },
  {
   "cell_type": "code",
   "execution_count": null,
   "metadata": {},
   "outputs": [],
   "source": [
    "plot(sin, 0, 2π;\n",
    "    xticks=0:0.5:2π,\n",
    "    xrotation=60,\n",
    "    xtickfontsize=25,\n",
    "    bottom_margin=15Plots.mm)"
   ]
  },
  {
   "cell_type": "code",
   "execution_count": null,
   "metadata": {},
   "outputs": [],
   "source": [
    "plot(sin, 0, 2π;\n",
    "    xtick=(0:0.5:2π, [\"$i a\" for i in 0:0.5:2π]),\n",
    "    ytick=-1:0.2:1,\n",
    "    xrotation=60,\n",
    "    yrotation=90,\n",
    ")"
   ]
  },
  {
   "cell_type": "markdown",
   "metadata": {},
   "source": [
    "### No axis\n",
    "\n",
    "`axis=false`"
   ]
  },
  {
   "cell_type": "code",
   "execution_count": null,
   "metadata": {},
   "outputs": [],
   "source": [
    "plot(sin, 0, 2π, axis=false)"
   ]
  },
  {
   "cell_type": "markdown",
   "metadata": {},
   "source": [
    "### Log scale for axes\n",
    "\n",
    "`xscale=:log10`, `yscale=:log10`"
   ]
  },
  {
   "cell_type": "code",
   "execution_count": null,
   "metadata": {},
   "outputs": [],
   "source": [
    "plot(exp, -5, 5, yscale=:log10, title=\"semilogy\", legend=nothing)"
   ]
  },
  {
   "cell_type": "code",
   "execution_count": null,
   "metadata": {},
   "outputs": [],
   "source": [
    "plot(log, 1e-5, 10, xscale=:log10, title=\"semilogx\", legend=nothing)"
   ]
  },
  {
   "cell_type": "code",
   "execution_count": null,
   "metadata": {},
   "outputs": [],
   "source": [
    "plot(x->x^1.7, 1e-3, 3, scale=:log10, title=\"log-log\", legend=nothing)"
   ]
  },
  {
   "cell_type": "markdown",
   "metadata": {},
   "source": [
    "### Axis range\n",
    "\n",
    "`xlims` and `ylims`"
   ]
  },
  {
   "cell_type": "code",
   "execution_count": null,
   "metadata": {},
   "outputs": [],
   "source": [
    "plot(sin, 0, 2π, xlims=(-10, 10), ylims=(-2,2))"
   ]
  },
  {
   "cell_type": "markdown",
   "metadata": {},
   "source": [
    "### Scientific notation\n",
    "\n",
    "`yformatter=:scientific`"
   ]
  },
  {
   "cell_type": "code",
   "execution_count": null,
   "metadata": {},
   "outputs": [],
   "source": [
    "plot(exp, 0, 10, yformatter=:scientific)"
   ]
  },
  {
   "cell_type": "markdown",
   "metadata": {},
   "source": [
    "### Flip \n",
    "\n",
    "`xflip=true` and/or `yflip=true`"
   ]
  },
  {
   "cell_type": "code",
   "execution_count": null,
   "metadata": {},
   "outputs": [],
   "source": [
    "plot(identity, 0:0.01:2π, proj=:polar, xflip=true, yflip=true)"
   ]
  },
  {
   "cell_type": "markdown",
   "metadata": {},
   "source": [
    "### Aspect ratio\n",
    "\n",
    "`aspect_ratio=:equal` or `aspect_ratio=<number>`"
   ]
  },
  {
   "cell_type": "code",
   "execution_count": null,
   "metadata": {},
   "outputs": [],
   "source": [
    "heatmap(bitrand(10, 10), aspect_ratio=:equal, c=:blues, colorbar=false)"
   ]
  },
  {
   "cell_type": "markdown",
   "metadata": {},
   "source": [
    "### Fonts\n",
    "\n",
    "LaTeX fonts are supported by the `LaTeXStrings.jl` package."
   ]
  },
  {
   "cell_type": "code",
   "execution_count": null,
   "metadata": {},
   "outputs": [],
   "source": [
    "using Plots\n",
    "using LaTeXStrings\n",
    "\n",
    "plot(sin, 0, 2π,\n",
    "    title=L\"y = \\sin(x)\",\n",
    "    titlefont=font(40), ## title\n",
    "\n",
    "    xlabel=L\"x\",\n",
    "    ylabel=\"y\",\n",
    "    xguidefontsize=30, ## x-guide\n",
    "    yguidefontsize=20, ## y-guide\n",
    "    # guidefontsize=20, ## both x,y-guide\n",
    "\n",
    "    xtick=(0:0.5:2π, [\"\\$ $(i) \\$\" for i in 0:0.5:2π]),\n",
    "    ytick=-1:0.5:1,\n",
    "    xtickfontsize=15,\n",
    "    ytickfontsize=20,\n",
    "    # tickfontsize=10, ## for both x and y\n",
    "\n",
    "    label=\"Sin function\",\n",
    "    legendfontsize=12,\n",
    "\n",
    "    xlims=(0,2π),\n",
    "    ylims=(-1,1),\n",
    "    bottom_margin=5Plots.mm,\n",
    "    left_margin=10Plots.mm,\n",
    "    top_margin=15Plots.mm\n",
    ")"
   ]
  },
  {
   "cell_type": "code",
   "execution_count": null,
   "metadata": {},
   "outputs": [],
   "source": [
    "fib(x) = (((1+sqrt(5))/2)^x - ((1-sqrt(5))/2)^x)/sqrt(5)\n",
    "\n",
    "ann = L\"F_n = \\frac{1}{\\sqrt{5}} \\left[\\left( \\frac{1+\\sqrt{5}}{2} \\right)^n - \\left( \\frac{1-\\sqrt{5}}{2} \\right)^n \\right]\"\n",
    "\n",
    "plot(fib, 1:12, marker=:circle, xlabel=L\"n\", ylabel=L\"F_n\", annotation=(5, 100, ann))"
   ]
  },
  {
   "cell_type": "markdown",
   "metadata": {},
   "source": [
    "## Bar plots"
   ]
  },
  {
   "cell_type": "code",
   "execution_count": null,
   "metadata": {},
   "outputs": [],
   "source": [
    "using Plots\n",
    "using StatsPlots\n",
    "using StatsBase"
   ]
  },
  {
   "cell_type": "code",
   "execution_count": null,
   "metadata": {},
   "outputs": [],
   "source": [
    "measles = [38556, 24472, 14556, 18060, 19549, 8122, 28541, 7880, 3283, 4135, 7953, 1884]\n",
    "mumps = [20178, 23536, 34561, 37395, 36072, 32237, 18597, 9408, 6005, 6268, 8963, 13882]\n",
    "chickenPox = [37140, 32169, 37533, 39103, 33244, 23269, 16737, 5411, 3435, 6052, 12825, 23332]\n",
    "ticklabel = string.(collect('A':'L'))"
   ]
  },
  {
   "cell_type": "markdown",
   "metadata": {},
   "source": [
    "### Grouped vertical bar plots\n",
    "\n",
    "Requires the `StatsPlots.jl` package.\n",
    "`groupedbar(data, bar_position = :dodge)`"
   ]
  },
  {
   "cell_type": "code",
   "execution_count": null,
   "metadata": {},
   "outputs": [],
   "source": [
    "groupedbar([measles mumps chickenPox], bar_position = :dodge, bar_width=0.7, xticks=(1:12, ticklabel), label=[\"measles\" \"mumps\" \"chickenPox\"])"
   ]
  },
  {
   "cell_type": "markdown",
   "metadata": {},
   "source": [
    "### Stacked vertical bar plots\n",
    "\n",
    "Requires `StatsPlots` package.\n",
    "`groupedbar(data, bar_position = :stack)`"
   ]
  },
  {
   "cell_type": "code",
   "execution_count": null,
   "metadata": {},
   "outputs": [],
   "source": [
    "groupedbar([measles mumps chickenPox],\n",
    "        bar_position = :stack,\n",
    "        bar_width=0.7,\n",
    "        xticks=(1:12, ticklabel),\n",
    "        label=[\"measles\" \"mumps\" \"chickenPox\"])"
   ]
  },
  {
   "cell_type": "markdown",
   "metadata": {},
   "source": [
    "### Horizontal Bar Plot\n",
    "\n",
    "`bar(data, orientation=:h)`"
   ]
  },
  {
   "cell_type": "code",
   "execution_count": null,
   "metadata": {},
   "outputs": [],
   "source": [
    "bar(1:12, orientation=:h, yticks=(1:12, ticklabel), yflip=true)"
   ]
  },
  {
   "cell_type": "markdown",
   "metadata": {},
   "source": [
    "### Categorical Histogram Plot"
   ]
  },
  {
   "cell_type": "code",
   "execution_count": null,
   "metadata": {},
   "outputs": [],
   "source": [
    "status = [\"Poor\", \"Fair\", \"Good\", \"Excellent\"]\n",
    "data = sample(status, Weights([1,1,2,2]), 100)\n",
    "datamap = countmap(data)\n",
    "\n",
    "bar((x -> datamap[x]).(status), xticks=(1:4, status), legend=nothing)"
   ]
  },
  {
   "cell_type": "markdown",
   "metadata": {},
   "source": [
    "## Histogram\n",
    "\n",
    "`histogram(data, bins=N)`"
   ]
  },
  {
   "cell_type": "code",
   "execution_count": null,
   "metadata": {},
   "outputs": [],
   "source": [
    "using Plots\n",
    "\n",
    "x = randn(1000)\n",
    "y = randn(1000)\n",
    "z = randn(1000)\n",
    "\n",
    "histogram(x, bins=20, alpha=0.4, label=\"A\")\n",
    "histogram!(y, bins=20, alpha=0.4, label=\"B\")\n",
    "histogram!(z, bins=20, alpha=0.4, label=\"C\")"
   ]
  },
  {
   "cell_type": "markdown",
   "metadata": {},
   "source": [
    "## Box plots"
   ]
  },
  {
   "cell_type": "code",
   "execution_count": null,
   "metadata": {},
   "outputs": [],
   "source": [
    "using Plots\n",
    "using StatsPlots\n",
    "using Statistics\n",
    "\n",
    "n = 30\n",
    "science = rand(1:10, n)\n",
    "boxplot(science, label=\"science\")"
   ]
  },
  {
   "cell_type": "code",
   "execution_count": null,
   "metadata": {},
   "outputs": [],
   "source": [
    "english = rand(1:10, n)\n",
    "boxplot([science english], label=[\"science\" \"english\"])"
   ]
  },
  {
   "cell_type": "markdown",
   "metadata": {},
   "source": [
    "## Contour Plots\n",
    "### Over a function\n",
    "\n",
    "`contour(xs, ys, f)` where `z = f(x, y)`"
   ]
  },
  {
   "cell_type": "code",
   "execution_count": null,
   "metadata": {},
   "outputs": [],
   "source": [
    "using Plots\n",
    "\n",
    "xs = range(0, stop=2, length=50)\n",
    "ys = range(0, stop=2, length=50)\n",
    "f = (x , y) -> x^2 + y^2\n",
    "\n",
    "contour(xs, ys, f)"
   ]
  },
  {
   "cell_type": "markdown",
   "metadata": {},
   "source": [
    "### Nullclines\n",
    "\n",
    "[Nullclines](https://en.wikipedia.org/wiki/Nullcline) (zero-growth isoclines) are curves where the derivative of one variable is zero. Nullclines are used to analyze evolution and stability of ODE systems."
   ]
  },
  {
   "cell_type": "code",
   "execution_count": null,
   "metadata": {},
   "outputs": [],
   "source": [
    "using Plots\n",
    "\n",
    "dx = (x, y) -> 3x - 1.4x*y\n",
    "dy = (x, y) -> -y + 0.8x*y\n",
    "\n",
    "myrange = -1:0.01:4\n",
    "\n",
    "contour(myrange, myrange, dx, levels=[0], color=:red, legend=false)\n",
    "contour!(myrange, myrange, dy, levels=[0], color=:blue, legend=false)"
   ]
  },
  {
   "cell_type": "markdown",
   "metadata": {},
   "source": [
    "### Contour plot over an array\n",
    "\n",
    "`contour(x1d, y1d, xy2d)`"
   ]
  },
  {
   "cell_type": "code",
   "execution_count": null,
   "metadata": {},
   "outputs": [],
   "source": [
    "# Notice xs is transposed\n",
    "# This makes zz a 2D matrix\n",
    "zz = f.(xs', ys)\n",
    "contour(xs, ys, zz)"
   ]
  },
  {
   "cell_type": "markdown",
   "metadata": {},
   "source": [
    "### Filled Contour Plots\n",
    "\n",
    "+ `contour(xs, ys, f, fill=true)`\n",
    "+ `contourf(xs, ys, f)`"
   ]
  },
  {
   "cell_type": "code",
   "execution_count": null,
   "metadata": {},
   "outputs": [],
   "source": [
    "contour(0:0.01:5, 0:0.01:5, (x, y) -> sin(3x) * cos(x+y), xlabel=\"x\", ylabel=\"y\", fill=true)"
   ]
  },
  {
   "cell_type": "markdown",
   "metadata": {},
   "source": [
    "## Datetime plot\n",
    "\n",
    "- Use `Dates` package and `Data` data type\n",
    "- Customize ticks"
   ]
  },
  {
   "cell_type": "code",
   "execution_count": null,
   "metadata": {},
   "outputs": [],
   "source": [
    "using Plots\n",
    "using Dates\n",
    "\n",
    "days = 31\n",
    "position = cumsum(randn(days))\n",
    "x = Date(2018,1,1):Day(1):Date(2018,1,31)\n",
    "ticks = [x[i] for i in 1:5:length(x)]\n",
    "\n",
    "plot(x, position,\n",
    "     xlabel=\"Date\",\n",
    "     ylabel=\"Position\",\n",
    "     title=\"Track of random walker\",\n",
    "\t legend=nothing,\n",
    "     xticks=ticks,\n",
    "     xrotation=45,\n",
    "     bottom_margin=10Plots.mm,\n",
    "     left_margin=5Plots.mm)"
   ]
  },
  {
   "cell_type": "markdown",
   "metadata": {},
   "source": [
    "## Error bar\n",
    "\n",
    "`plots(..., xerr=xerr, yerr=yerr)`"
   ]
  },
  {
   "cell_type": "code",
   "execution_count": null,
   "metadata": {},
   "outputs": [],
   "source": [
    "using Plots\n",
    "\n",
    "f = x -> 2 * x + 1\n",
    "x = 0:0.1:2\n",
    "n = length(x)\n",
    "y = f.(x) + randn(n)\n",
    "\n",
    "plot(x, y,\n",
    "    xerr=0.1 * rand(n),\n",
    "    yerr=rand(n),\n",
    "\tlegend=nothing)"
   ]
  },
  {
   "cell_type": "markdown",
   "metadata": {},
   "source": [
    "## Heatmap\n",
    "\n",
    "`heatmap(data)`"
   ]
  },
  {
   "cell_type": "code",
   "execution_count": null,
   "metadata": {},
   "outputs": [],
   "source": [
    "using Plots\n",
    "\n",
    "a = rand(5,5)\n",
    "xlabel = string.(collect('A':'E'))\n",
    "ylabel = string.(collect('a':'e'))\n",
    "heatmap(a, xticks=(1:5, xlabel),\n",
    "           yticks=(1:5, ylabel),\n",
    "           aspect_ratio=:equal)\n",
    "\n",
    "fontsize = 15\n",
    "nrow, ncol = size(a)\n",
    "\n",
    "# Add number annotations to plots\n",
    "ann = [(i,j, text(round(a[i,j], digits=2), fontsize, :white, :center))\n",
    "            for i in 1:nrow for j in 1:ncol]\n",
    "\n",
    "annotate!(ann, linecolor=:white)"
   ]
  },
  {
   "cell_type": "markdown",
   "metadata": {},
   "source": [
    "## Line plots\n",
    "\n",
    "```julia\n",
    "using Plots\n",
    "plot(x, y)\n",
    "plot(f, xRange)\n",
    "plot(f, xMin, xMax)\n",
    "plot(x, [y1 y2])\n",
    "```"
   ]
  },
  {
   "cell_type": "code",
   "execution_count": null,
   "metadata": {},
   "outputs": [],
   "source": [
    "using Plots\n",
    "\n",
    "# Data\n",
    "x = 0:0.1:2pi\n",
    "y1 = cos.(x)\n",
    "y2 = sin.(x)\n",
    "\n",
    "# Creating a plot in steps\n",
    "plot(x, y1, color=\"blue\", linewidth=3)\n",
    "plot!(x, y2, color=\"red\", line=:dash)\n",
    "title!(\"Trigonometric functions\")\n",
    "xlabel!(\"angle\")\n",
    "ylabel!(\"sin(x) and cos(x)\")\n",
    "plot!(xlims=(0,2pi), ylims=(-2, 2), size=(600, 600))"
   ]
  },
  {
   "cell_type": "code",
   "execution_count": null,
   "metadata": {},
   "outputs": [],
   "source": [
    "plot(x, y1, line=(:blue, 3))\n",
    "plot!(x, y2, line=(:dash, :red))\n",
    "\n",
    "# Use keywords to set the options all in one plot() call\n",
    "plot!(title=\"Trigonometric functions\",\n",
    "        xlabel=\"angle\",\n",
    "        ylabel=\"sin(x) and cos(x)\",\n",
    "        xlims=(0,2pi), ylims=(-2, 2), size=(600, 600))"
   ]
  },
  {
   "cell_type": "markdown",
   "metadata": {},
   "source": [
    "### Plotting multiple series\n",
    "\n",
    "+ One row = one observation\n",
    "+ One column = one species"
   ]
  },
  {
   "cell_type": "code",
   "execution_count": null,
   "metadata": {},
   "outputs": [],
   "source": [
    "time = 30\n",
    "walker1 = cumsum(randn(time))\n",
    "walker2 = cumsum(randn(time))\n",
    "walker3 = cumsum(randn(time))\n",
    "walker4 = cumsum(randn(time))\n",
    "walker5 = cumsum(randn(time))\n",
    "plot(1:time, [walker1 walker2 walker3 walker4 walker5],\n",
    "    xlabel=\"time\", ylabel=\"position\",\n",
    "    label=[\"walker1\" \"walker2\" \"walker3\" \"walker4\" \"walker5\"],\n",
    "    legend=:topleft\n",
    ")"
   ]
  },
  {
   "cell_type": "markdown",
   "metadata": {},
   "source": [
    "### Parametric plots\n",
    "\n",
    "Functions can be plotted directly.\n",
    "\n",
    "+ `plot(f, xmin, xmax)`\n",
    "+ `plot(f, range_of_x)`\n",
    "+ `plot(fx(t), fy(t), range_of_t)`"
   ]
  },
  {
   "cell_type": "code",
   "execution_count": null,
   "metadata": {},
   "outputs": [],
   "source": [
    "let\n",
    "    f = x -> 5exp(-x^2)\n",
    "    g = x -> x^2\n",
    "    plot([f, g], -3, 3, label=[\"f\" \"g\"], legend=:top)\n",
    "end"
   ]
  },
  {
   "cell_type": "code",
   "execution_count": null,
   "metadata": {},
   "outputs": [],
   "source": [
    "plot(sin, t->sin(2t), 0, 2π, leg=false, fill=(0,:orange))"
   ]
  },
  {
   "cell_type": "markdown",
   "metadata": {},
   "source": [
    "## 3D line plot\n",
    "\n",
    "Similar to 2D line plots.\n",
    "\n",
    "`plot(fx(t), fy(t), fz(t), tmin, tmax [, kwargs...])`"
   ]
  },
  {
   "cell_type": "code",
   "execution_count": null,
   "metadata": {},
   "outputs": [],
   "source": [
    "plot(cos, sin, t -> sin(5t), 0, 2pi, legend=nothing)"
   ]
  },
  {
   "cell_type": "markdown",
   "metadata": {},
   "source": [
    "### Line colors\n",
    "\n",
    "`plot(x, y, c=color)`"
   ]
  },
  {
   "cell_type": "code",
   "execution_count": null,
   "metadata": {},
   "outputs": [],
   "source": [
    "using Plots\n",
    "using SpecialFunctions\n",
    "\n",
    "x = 0:0.2:10\n",
    "y0 = besselj.(0,x)\n",
    "y1 = besselj.(1,x)\n",
    "y2 = besselj.(2,x)\n",
    "y3 = besselj.(3,x)\n",
    "y4 = besselj.(4,x)\n",
    "y5 = besselj.(5,x)\n",
    "y6 = besselj.(6,x)\n",
    "colors = [:red :green :blue :cyan :magenta :yellow :black]\n",
    "plot(x, [y0 y1 y2 y3 y4 y5 y6], c=colors)"
   ]
  },
  {
   "cell_type": "markdown",
   "metadata": {},
   "source": [
    "### Line styles"
   ]
  },
  {
   "cell_type": "code",
   "execution_count": null,
   "metadata": {},
   "outputs": [],
   "source": [
    "using Plots\n",
    "@show Plots.supported_styles()"
   ]
  },
  {
   "cell_type": "code",
   "execution_count": null,
   "metadata": {},
   "outputs": [],
   "source": [
    "style = Plots.supported_styles()[2:end]\n",
    "style = reshape(style, 1, length(style))\n",
    "plot(x, [y0 y1 y2 y3 y4], line=(3, style))"
   ]
  },
  {
   "cell_type": "markdown",
   "metadata": {},
   "source": [
    "## Polar Plots\n",
    "\n",
    "`plot(θ, r, proj=:polar)`"
   ]
  },
  {
   "cell_type": "code",
   "execution_count": null,
   "metadata": {},
   "outputs": [],
   "source": [
    "using Plots\n",
    "plot(θ -> 1 + cos(θ) * sin(θ)^2, 0, 2π, proj=:polar, lims=(0, 1.5))"
   ]
  },
  {
   "cell_type": "markdown",
   "metadata": {},
   "source": [
    "### Rose Plots\n",
    "\n",
    "`plot(..., proj=:polar, line=:steppre)`"
   ]
  },
  {
   "cell_type": "code",
   "execution_count": null,
   "metadata": {},
   "outputs": [],
   "source": [
    "n = 24\n",
    "R = rand(n+1)\n",
    "plot(0:2pi/n:2pi, R, proj=:polar, line=:steppre, lims=(0, 1), legend=nothing)"
   ]
  },
  {
   "cell_type": "markdown",
   "metadata": {},
   "source": [
    "## Quiver Plots\n",
    "\n",
    "+ `quiver(x1d, y1d, quiver=(vx1d, vy1d)`\n",
    "+ `quiver(x2d, y2d, quiver=(x, y)->(u, v))`"
   ]
  },
  {
   "cell_type": "code",
   "execution_count": null,
   "metadata": {},
   "outputs": [],
   "source": [
    "using Plots\n",
    "\n",
    "n = 7\n",
    "f = (x,y) -> hypot(x, y) |> inv\n",
    "\n",
    "x = repeat(-3:(2*3)/n:3, 1, n) |> vec\n",
    "y = repeat(-3:(2*3)/n:3, 1, n)' |> vec\n",
    "vx = f.(x,y) .* cos.(atan.(y,x)) |> vec\n",
    "vy = f.(x,y) .* sin.(atan.(y,x)) |> vec\n",
    "quiver(x, y, quiver=(vx, vy), aspect_ratio=:equal)"
   ]
  },
  {
   "cell_type": "code",
   "execution_count": null,
   "metadata": {},
   "outputs": [],
   "source": [
    "g = (x, y) -> [f(x,y) * cos(atan(y,x)), f(x,y) * sin(atan(y,x))]\n",
    "xx = [x for y in -3:(2*3)/n:3, x in -3:(2*3)/n:3]\n",
    "yy = [y for y in -3:(2*3)/n:3, x in -3:(2*3)/n:3]\n",
    "quiver(xx, yy, quiver=g, aspect_ratio=:equal, color=:black)"
   ]
  },
  {
   "cell_type": "markdown",
   "metadata": {},
   "source": [
    "## Scatter Plots\n",
    "\n",
    "2D Scatter Plots: `scatter(xpos, ypos)`"
   ]
  },
  {
   "cell_type": "code",
   "execution_count": null,
   "metadata": {},
   "outputs": [],
   "source": [
    "using Plots\n",
    "\n",
    "n = 50\n",
    "x = rand(n)\n",
    "y = rand(n)\n",
    "ms = rand(50) * 30\n",
    "scatter(x, y, markersize=ms)"
   ]
  },
  {
   "cell_type": "markdown",
   "metadata": {},
   "source": [
    "3D Scatter Plots: `scatter(xpos, ypos, zpos)`"
   ]
  },
  {
   "cell_type": "code",
   "execution_count": null,
   "metadata": {},
   "outputs": [],
   "source": [
    "scatter(x, y, rand(n), markersize=ms)"
   ]
  },
  {
   "cell_type": "markdown",
   "metadata": {},
   "source": [
    "## Stairstep plot\n",
    "\n",
    "`plot(..., line=:steppre)`"
   ]
  },
  {
   "cell_type": "code",
   "execution_count": null,
   "metadata": {},
   "outputs": [],
   "source": [
    "plot(sin.(0:0.3:2pi), line=:steppre, label=\"Steps\")"
   ]
  },
  {
   "cell_type": "markdown",
   "metadata": {},
   "source": [
    "## Stem plot\n",
    "\n",
    "Known as the lollipop plot.\n",
    "\n",
    "`plot(..., line=:stem)`"
   ]
  },
  {
   "cell_type": "code",
   "execution_count": null,
   "metadata": {},
   "outputs": [],
   "source": [
    "plot(sin.(0:0.3:2pi), line=:stem, marker=:star, markersize=20, ylims=(-1.1, 1.1), label=\"Stars\")"
   ]
  },
  {
   "cell_type": "markdown",
   "metadata": {},
   "source": [
    "## Subplots\n",
    "\n",
    "+ `plot(p1, p2, p3, ...)`\n",
    "+ `plot(..., layout=(nrow, ncol))`\n",
    "+ `plot(..., layout=@layout [...])`\n",
    "\n",
    "[Source](https://docs.juliaplots.org/latest/layouts/)"
   ]
  },
  {
   "cell_type": "code",
   "execution_count": null,
   "metadata": {},
   "outputs": [],
   "source": [
    "using Plots\n",
    "\n",
    "data = rand(100, 4)"
   ]
  },
  {
   "cell_type": "markdown",
   "metadata": {},
   "source": [
    "create a 2x2 grid, and map each of the 4 series to one of the subplots"
   ]
  },
  {
   "cell_type": "code",
   "execution_count": null,
   "metadata": {},
   "outputs": [],
   "source": [
    "plot(data, layout = 4)"
   ]
  },
  {
   "cell_type": "markdown",
   "metadata": {},
   "source": [
    "More complex grid layouts can be created with the grid(...) constructor:"
   ]
  },
  {
   "cell_type": "code",
   "execution_count": null,
   "metadata": {},
   "outputs": [],
   "source": [
    "plot(data, layout = grid(4, 1, heights=[0.1 ,0.4, 0.4, 0.1]))"
   ]
  },
  {
   "cell_type": "markdown",
   "metadata": {},
   "source": [
    "Adding titles and labels"
   ]
  },
  {
   "cell_type": "code",
   "execution_count": null,
   "metadata": {},
   "outputs": [],
   "source": [
    "plot(data, layout = 4, label=[\"a\" \"b\" \"c\" \"d\"], title=[\"1\" \"2\" \"3\" \"4\"])"
   ]
  },
  {
   "cell_type": "markdown",
   "metadata": {},
   "source": [
    "Use `@layout` macro"
   ]
  },
  {
   "cell_type": "code",
   "execution_count": null,
   "metadata": {},
   "outputs": [],
   "source": [
    "l = @layout [\n",
    "    a{0.3w} [grid(3,3)\n",
    "             b{0.2h}  ]\n",
    "]\n",
    "plot(\n",
    "    rand(10, 11),\n",
    "    layout = l, legend = false, seriestype = [:bar :scatter :path],\n",
    "    title = [\"($i)\" for j in 1:1, i in 1:11], titleloc = :right, titlefont = font(8)\n",
    ")"
   ]
  },
  {
   "cell_type": "markdown",
   "metadata": {},
   "source": [
    "Use _ to ignore a spot in the layout"
   ]
  },
  {
   "cell_type": "code",
   "execution_count": null,
   "metadata": {},
   "outputs": [],
   "source": [
    "plot((plot() for i in 1:7)..., layout=@layout([_ ° _; ° ° °; ° ° °]))"
   ]
  },
  {
   "cell_type": "markdown",
   "metadata": {},
   "source": [
    "### Build subplots one by one"
   ]
  },
  {
   "cell_type": "code",
   "execution_count": null,
   "metadata": {},
   "outputs": [],
   "source": [
    "p1 = plot(sin, 0, 2pi, xlabel=\"x1\")\n",
    "p2 = plot(cos, 0, 2pi, xlabel=\"x2\")\n",
    "p3 = histogram(randn(1000), xlabel=\"x3\")\n",
    "p4 = plot(x->exp(-x^2), -3, 3, xlabel=\"x4\")\n",
    "plot(p1, p2, p3, p4)"
   ]
  },
  {
   "cell_type": "markdown",
   "metadata": {},
   "source": [
    "## Surface plots\n",
    "\n",
    "+ `surface(x, y, z)`\n",
    "+ `surface(x, y, (x,y)->z)`\n",
    "+ `plot(x, y, z, linetype=:surface)`\n",
    "+ `plot(x, y, z, linetype=:wireframe)`"
   ]
  },
  {
   "cell_type": "code",
   "execution_count": null,
   "metadata": {},
   "outputs": [],
   "source": [
    "using Plots\n",
    "\n",
    "x = y = -10:10\n",
    "f = (x , y) -> x^2 + y^2\n",
    "\n",
    "surface(x, y, f)"
   ]
  },
  {
   "cell_type": "markdown",
   "metadata": {},
   "source": [
    "surface style"
   ]
  },
  {
   "cell_type": "code",
   "execution_count": null,
   "metadata": {},
   "outputs": [],
   "source": [
    "plot(x, y, f, linetype=:surface)"
   ]
  },
  {
   "cell_type": "markdown",
   "metadata": {},
   "source": [
    "wireframe style"
   ]
  },
  {
   "cell_type": "code",
   "execution_count": null,
   "metadata": {},
   "outputs": [],
   "source": [
    "plot(x, y, f, linetype=:wireframe)"
   ]
  },
  {
   "cell_type": "markdown",
   "metadata": {},
   "source": [
    "## Twin Y Axis\n",
    "\n",
    "`plot!(twinx())`"
   ]
  },
  {
   "cell_type": "code",
   "execution_count": null,
   "metadata": {},
   "outputs": [],
   "source": [
    "using Plots\n",
    "\n",
    "plot(randn(100), ylabel=\"y1\", leg=:topright)\n",
    "plot!(\n",
    "    twinx(), randn(100)*10,\n",
    "    c=:red,\n",
    "    ylabel=\"y2\",\n",
    "    leg=:bottomright,\n",
    "    size=(600, 400)\n",
    ")\n",
    "plot!(right_margin=15Plots.mm)"
   ]
  },
  {
   "cell_type": "markdown",
   "metadata": {},
   "source": [
    "## Animations"
   ]
  },
  {
   "cell_type": "code",
   "execution_count": null,
   "metadata": {},
   "outputs": [],
   "source": [
    "using Plots"
   ]
  },
  {
   "cell_type": "markdown",
   "metadata": {},
   "source": [
    "define the Lorenz attractor"
   ]
  },
  {
   "cell_type": "code",
   "execution_count": null,
   "metadata": {},
   "outputs": [],
   "source": [
    "Base.@kwdef mutable struct Lorenz\n",
    "    dt::Float64 = 0.02\n",
    "    σ::Float64 = 10\n",
    "    ρ::Float64 = 28\n",
    "    β::Float64 = 8/3\n",
    "    x::Float64 = 1\n",
    "    y::Float64 = 1\n",
    "    z::Float64 = 1\n",
    "end\n",
    "\n",
    "function step!(l::Lorenz)\n",
    "    dx = l.σ * (l.y - l.x)\n",
    "    dy = l.x * (l.ρ - l.z) - l.y\n",
    "    dz = l.x * l.y - l.β * l.z\n",
    "    l.x += l.dt * dx\n",
    "    l.y += l.dt * dy\n",
    "    l.z += l.dt * dz\n",
    "end\n",
    "\n",
    "attractor = Lorenz()"
   ]
  },
  {
   "cell_type": "markdown",
   "metadata": {},
   "source": [
    "initialize a 3D plot with 1 empty series"
   ]
  },
  {
   "cell_type": "code",
   "execution_count": null,
   "metadata": {},
   "outputs": [],
   "source": [
    "plt = plot3d(\n",
    "    1,\n",
    "    xlim = (-30, 30),\n",
    "    ylim = (-30, 30),\n",
    "    zlim = (0, 60),\n",
    "    title = \"Lorenz Attractor\",\n",
    "    marker = 2,\n",
    ")\n",
    "\n",
    "plt"
   ]
  },
  {
   "cell_type": "markdown",
   "metadata": {},
   "source": [
    "pushing new points to the plot"
   ]
  },
  {
   "cell_type": "code",
   "execution_count": null,
   "metadata": {},
   "outputs": [],
   "source": [
    "anim = @animate for i=1:1500\n",
    "    step!(attractor)\n",
    "    push!(plt, attractor.x, attractor.y, attractor.z)\n",
    "end\n",
    "\n",
    "mp4(anim, fps = 15)"
   ]
  }
 ],
 "metadata": {
  "kernelspec": {
   "display_name": "Julia 1.10.2",
   "language": "julia",
   "name": "julia-1.10"
  },
  "language_info": {
   "file_extension": ".jl",
   "mimetype": "application/julia",
   "name": "julia",
   "version": "1.10.2"
  }
 },
 "nbformat": 4,
 "nbformat_minor": 3
}
